{
 "cells": [
  {
   "cell_type": "code",
   "execution_count": 118,
   "metadata": {},
   "outputs": [],
   "source": [
    "import torch\n",
    "import os\n",
    "import numpy as np\n",
    "import matplotlib.pyplot as plt\n",
    "import matplotlib\n",
    "from matplotlib import animation\n",
    "from matplotlib.animation import PillowWriter\n",
    "device = torch.device('cuda' if torch.cuda.is_available() else 'cpu')"
   ]
  },
  {
   "cell_type": "code",
   "execution_count": 119,
   "metadata": {},
   "outputs": [],
   "source": [
    "def get_distance_squared_pairs(particles, pair_indices):\n",
    "    delta_x = torch.diff(torch.stack([particles[0][pair_indices[:,0]], particles[0][pair_indices[:,1]]]).T).squeeze()\n",
    "    delta_y = torch.diff(torch.stack([particles[1][pair_indices[:,0]], particles[1][pair_indices[:,1]]]).T).squeeze()\n",
    "    \n",
    "    return delta_x**2 + delta_y**2"
   ]
  },
  {
   "cell_type": "code",
   "execution_count": 120,
   "metadata": {},
   "outputs": [],
   "source": [
    "def compute_new_velocity(velocity1, velocity2, position1, position2):\n",
    "    velocity1_new = velocity1 - torch.sum((velocity1-velocity2)*(position1-position2), axis=0)/torch.sum((position1-position2)**2, axis=0) * (position1 - position2)\n",
    "    velocity2_new = velocity2 - torch.sum((velocity1-velocity2)*(position1-position2), axis=0)/torch.sum((position2-position1)**2, axis=0) * (position2 - position1)\n",
    "    \n",
    "    return velocity1_new, velocity2_new"
   ]
  },
  {
   "cell_type": "code",
   "execution_count": 121,
   "metadata": {},
   "outputs": [],
   "source": [
    "def motion(particles, velocities, pair_ids, iterations, delta_time, radii):\n",
    "    particles_save = torch.zeros((iterations, particles.shape[0], particles.shape[1]), device=device)\n",
    "    velocities_save = torch.zeros((iterations, velocities.shape[0], velocities.shape[1]), device=device)\n",
    "    \n",
    "    particles_save[0] = particles\n",
    "    velocities_save[0] = velocities\n",
    "    \n",
    "    for i in range(1,iterations):\n",
    "        intersecting_pairs = pair_ids[get_distance_squared_pairs(particles, pair_ids) < (2*radii)**2]\n",
    "        velocities[:, intersecting_pairs[:,0]], velocities[:, intersecting_pairs[:,1]] = compute_new_velocity(velocities[:, intersecting_pairs[:,0]], velocities[:, intersecting_pairs[:,1]], particles[:, intersecting_pairs[:,0]], particles[:, intersecting_pairs[:,1]])\n",
    "        velocities[0,particles[0]>1] = -torch.abs(velocities[0,particles[0]>1])\n",
    "        velocities[0,particles[0]<0] = torch.abs(velocities[0,particles[0]<0])\n",
    "        velocities[1,particles[1]>1] = -torch.abs(velocities[1,particles[1]>1])\n",
    "        velocities[1,particles[1]<0] = torch.abs(velocities[1,particles[1]<0])\n",
    "        \n",
    "        particles = particles + velocities * delta_time\n",
    "        \n",
    "        particles_save[i] = particles\n",
    "        velocities_save[i] = velocities\n",
    "        \n",
    "    return particles_save, velocities_save"
   ]
  },
  {
   "cell_type": "code",
   "execution_count": 127,
   "metadata": {},
   "outputs": [],
   "source": [
    "N_PARTICLES = 5000\n",
    "RADIUS = 0.0005\n",
    "\n",
    "\n",
    "particles = torch.rand((2, N_PARTICLES), device=device)\n",
    "\n",
    "\n",
    "right_indices = particles[0] > 0.5\n",
    "left_indices = particles[0] <= 0.5\n",
    "\n",
    "\n",
    "velocities = torch.zeros((2, N_PARTICLES), device=device)\n",
    "velocities[0][right_indices] = -500\n",
    "velocities[0][left_indices] = 500\n",
    "\n",
    "\n",
    "ids = torch.arange(N_PARTICLES, device=device)\n",
    "id_pairs = torch.combinations(ids)\n"
   ]
  },
  {
   "cell_type": "code",
   "execution_count": 129,
   "metadata": {},
   "outputs": [],
   "source": [
    "particles_save, velocities_save = motion(particles, velocities, id_pairs, 1000, 0.000008, RADIUS)"
   ]
  },
  {
   "cell_type": "code",
   "execution_count": 132,
   "metadata": {},
   "outputs": [],
   "source": [
    "v = np.linspace(0, 2000, 1000)\n",
    "a = 2/500**2\n",
    "fv = a*v*np.exp(-a*v**2 / 2)"
   ]
  },
  {
   "cell_type": "code",
   "execution_count": 135,
   "metadata": {},
   "outputs": [
    {
     "data": {
      "text/plain": [
       "Text(0, 0.5, '# Particles')"
      ]
     },
     "execution_count": 135,
     "metadata": {},
     "output_type": "execute_result"
    },
    {
     "data": {
      "image/png": "[encoded data removed]",
      "text/plain": [
       "<Figure size 432x288 with 1 Axes>"
      ]
     },
     "metadata": {
      "needs_background": "light"
     },
     "output_type": "display_data"
    }
   ],
   "source": [
    "bins = np.linspace(0,1500,50)\n",
    "plt.figure()\n",
    "\n",
    "plt.hist(torch.sqrt(torch.sum(velocities_save[-1]**2, axis=0)).cpu(), bins=bins, density=True)\n",
    "plt.plot(v,fv)\n",
    "plt.xlabel('Velocity [m/s]')\n",
    "plt.ylabel('# Particles')"
   ]
  }
 ],
 "metadata": {
  "kernelspec": {
   "display_name": "Python 3",
   "language": "python",
   "name": "python3"
  },
  "language_info": {
   "codemirror_mode": {
    "name": "ipython",
    "version": 3
   },
   "file_extension": ".py",
   "mimetype": "text/x-python",
   "name": "python",
   "nbconvert_exporter": "python",
   "pygments_lexer": "ipython3",
   "version": "3.10.10"
  },
  "orig_nbformat": 4
 },
 "nbformat": 4,
 "nbformat_minor": 2
}
